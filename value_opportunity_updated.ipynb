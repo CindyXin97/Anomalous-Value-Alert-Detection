{
 "cells": [
  {
   "cell_type": "markdown",
   "metadata": {},
   "source": [
    "# This notebook is for checking the alert criteria"
   ]
  },
  {
   "cell_type": "markdown",
   "metadata": {},
   "source": [
    "## Part 1. Read Into DataFrame \n",
    "Here are two ways\n",
    "1. If you have the data as the csv, you can use the first methods to read data directly. Note: This notebook should be in the same folder with the csv file, otherwise, you need to change the driectory.\n",
    "2. If you wanna link it with the Database, and use the data from DB, then use the second one.\n",
    "\n",
    "(Also, u can use the second method to get the table, and caculate and clean the data by using the code at step 2)"
   ]
  },
  {
   "cell_type": "markdown",
   "metadata": {},
   "source": [
    "### First Method"
   ]
  },
  {
   "cell_type": "code",
   "execution_count": 190,
   "metadata": {},
   "outputs": [],
   "source": [
    "import pandas as pd\n",
    "import numpy as np \n",
    "import seaborn as sns\n",
    "from matplotlib.pylab import plt "
   ]
  },
  {
   "cell_type": "code",
   "execution_count": 2,
   "metadata": {},
   "outputs": [],
   "source": [
    "import warnings\n",
    "warnings.filterwarnings(action='ignore') "
   ]
  },
  {
   "cell_type": "code",
   "execution_count": 147,
   "metadata": {},
   "outputs": [],
   "source": [
    "value=pd.read_csv('Change Values 2020.csv') ## 👍🏻 note: If the notebook u created is in the different directory of ur csv, u can change it into Read_csv('desktop:/ change_rate.csv')"
   ]
  },
  {
   "cell_type": "code",
   "execution_count": 148,
   "metadata": {},
   "outputs": [
    {
     "data": {
      "text/html": [
       "<div>\n",
       "<style scoped>\n",
       "    .dataframe tbody tr th:only-of-type {\n",
       "        vertical-align: middle;\n",
       "    }\n",
       "\n",
       "    .dataframe tbody tr th {\n",
       "        vertical-align: top;\n",
       "    }\n",
       "\n",
       "    .dataframe thead th {\n",
       "        text-align: right;\n",
       "    }\n",
       "</style>\n",
       "<table border=\"1\" class=\"dataframe\">\n",
       "  <thead>\n",
       "    <tr style=\"text-align: right;\">\n",
       "      <th></th>\n",
       "      <th>opportunityid</th>\n",
       "      <th>change_date</th>\n",
       "      <th>field</th>\n",
       "      <th>oldvalue</th>\n",
       "      <th>newvalue</th>\n",
       "    </tr>\n",
       "  </thead>\n",
       "  <tbody>\n",
       "    <tr>\n",
       "      <th>0</th>\n",
       "      <td>0063800000kpMwVAAU</td>\n",
       "      <td>2018-04-08T20:31:05.0000000</td>\n",
       "      <td>Amount</td>\n",
       "      <td>0.0</td>\n",
       "      <td>4860.0</td>\n",
       "    </tr>\n",
       "    <tr>\n",
       "      <th>1</th>\n",
       "      <td>0063800000mONmWAAW</td>\n",
       "      <td>2018-07-02T14:52:44.0000000</td>\n",
       "      <td>Amount</td>\n",
       "      <td>NaN</td>\n",
       "      <td>0.0</td>\n",
       "    </tr>\n",
       "    <tr>\n",
       "      <th>2</th>\n",
       "      <td>0063800000kplgmAAA</td>\n",
       "      <td>2018-04-12T16:42:39.0000000</td>\n",
       "      <td>Amount</td>\n",
       "      <td>NaN</td>\n",
       "      <td>0.0</td>\n",
       "    </tr>\n",
       "    <tr>\n",
       "      <th>3</th>\n",
       "      <td>0063800000kpTKgAAM</td>\n",
       "      <td>2018-04-12T12:25:41.0000000</td>\n",
       "      <td>Amount</td>\n",
       "      <td>600.0</td>\n",
       "      <td>400.0</td>\n",
       "    </tr>\n",
       "    <tr>\n",
       "      <th>4</th>\n",
       "      <td>0063800000kqTVOAA2</td>\n",
       "      <td>2018-04-23T15:44:53.0000000</td>\n",
       "      <td>Amount</td>\n",
       "      <td>166654.0</td>\n",
       "      <td>83327.0</td>\n",
       "    </tr>\n",
       "  </tbody>\n",
       "</table>\n",
       "</div>"
      ],
      "text/plain": [
       "        opportunityid                  change_date   field  oldvalue  newvalue\n",
       "0  0063800000kpMwVAAU  2018-04-08T20:31:05.0000000  Amount       0.0    4860.0\n",
       "1  0063800000mONmWAAW  2018-07-02T14:52:44.0000000  Amount       NaN       0.0\n",
       "2  0063800000kplgmAAA  2018-04-12T16:42:39.0000000  Amount       NaN       0.0\n",
       "3  0063800000kpTKgAAM  2018-04-12T12:25:41.0000000  Amount     600.0     400.0\n",
       "4  0063800000kqTVOAA2  2018-04-23T15:44:53.0000000  Amount  166654.0   83327.0"
      ]
     },
     "execution_count": 148,
     "metadata": {},
     "output_type": "execute_result"
    }
   ],
   "source": [
    "value.head()## read the first 5 rows of the table"
   ]
  },
  {
   "cell_type": "markdown",
   "metadata": {},
   "source": [
    "### Second Method"
   ]
  },
  {
   "cell_type": "markdown",
   "metadata": {},
   "source": [
    "for windows, first time user, u need to download this package by using 'pip install psycopg2'"
   ]
  },
  {
   "cell_type": "code",
   "execution_count": null,
   "metadata": {},
   "outputs": [],
   "source": [
    "# pip install psycopg2"
   ]
  },
  {
   "cell_type": "code",
   "execution_count": 191,
   "metadata": {},
   "outputs": [],
   "source": [
    "# import psycopg2\n",
    "# con=psycopg2.connect(dbname= 'race', host='race-dw.db.amazon.com', \n",
    "# port= '8192', user= 'xndi', password= 'Xd8784652@')"
   ]
  },
  {
   "cell_type": "code",
   "execution_count": 192,
   "metadata": {},
   "outputs": [],
   "source": [
    "# cur = con.cursor()"
   ]
  },
  {
   "cell_type": "code",
   "execution_count": 193,
   "metadata": {},
   "outputs": [],
   "source": [
    "# cur.execute(\"SELECT * FROM restrict_ext.opportunityfieldhistory where opportunityid='0065000000YfY2IAAV';\")"
   ]
  },
  {
   "cell_type": "code",
   "execution_count": null,
   "metadata": {},
   "outputs": [],
   "source": [
    "# for row in cur.fetchall():\n",
    "#     print(row[:2])"
   ]
  },
  {
   "cell_type": "code",
   "execution_count": null,
   "metadata": {},
   "outputs": [],
   "source": [
    "# pip install SQLAlchemy"
   ]
  },
  {
   "cell_type": "code",
   "execution_count": null,
   "metadata": {},
   "outputs": [],
   "source": [
    "# import pandas as pd\n",
    "# import numpy as np \n",
    "# import seaborn as sns\n",
    "# from matplotlib.pylab import plt"
   ]
  },
  {
   "cell_type": "code",
   "execution_count": null,
   "metadata": {},
   "outputs": [],
   "source": [
    "# import warnings\n",
    "# warnings.filterwarnings(action='ignore')"
   ]
  },
  {
   "cell_type": "code",
   "execution_count": 195,
   "metadata": {},
   "outputs": [],
   "source": [
    "# from sqlalchemy import create_engine\n",
    "# import pandas as padas\n",
    "# engine = create_engine('postgresql://xndi:Xd8784652@@race-dw.db.amazon.com:8192/race')## 👍🏻you need to change the DB name, Db connection, port\n",
    "# value_sql= padas.read_sql_query(''' \n",
    "# select opportunityid, oldvalue, newvalue, round(convert(float,change_rate),1) as change_rate,createddate\n",
    "#   from\n",
    "# ( select opportunityid, oldvalue, newvalue,\n",
    "#   case when oldvalue <> 0 then round((newvalue-oldvalue)/oldvalue,2)\n",
    "#   else '999999' end as Change_rate,createddate\n",
    "#   from\n",
    "# (select opportunityid, round(convert(float, isnull(oldvalue, '0')),1) as oldvalue,round(convert(float, isnull(newvalue, '0')),1) as newvalue,createddate\n",
    "# from restrict_ext.opportunityfieldhistory\n",
    "# where field='Amount' and oldvalue!=0 and newvalue!=0 ))temp1''', engine)"
   ]
  },
  {
   "cell_type": "code",
   "execution_count": 196,
   "metadata": {},
   "outputs": [
    {
     "data": {
      "text/html": [
       "<div>\n",
       "<style scoped>\n",
       "    .dataframe tbody tr th:only-of-type {\n",
       "        vertical-align: middle;\n",
       "    }\n",
       "\n",
       "    .dataframe tbody tr th {\n",
       "        vertical-align: top;\n",
       "    }\n",
       "\n",
       "    .dataframe thead th {\n",
       "        text-align: right;\n",
       "    }\n",
       "</style>\n",
       "<table border=\"1\" class=\"dataframe\">\n",
       "  <thead>\n",
       "    <tr style=\"text-align: right;\">\n",
       "      <th></th>\n",
       "      <th>opportunityid</th>\n",
       "      <th>oldvalue</th>\n",
       "      <th>newvalue</th>\n",
       "      <th>change_rate</th>\n",
       "      <th>createddate</th>\n",
       "    </tr>\n",
       "  </thead>\n",
       "  <tbody>\n",
       "    <tr>\n",
       "      <th>0</th>\n",
       "      <td>0063800000dQcD6AAK</td>\n",
       "      <td>50000.0</td>\n",
       "      <td>100000.0</td>\n",
       "      <td>1.0</td>\n",
       "      <td>2016-10-21 20:25:54</td>\n",
       "    </tr>\n",
       "    <tr>\n",
       "      <th>1</th>\n",
       "      <td>0065000000MkJ3PAAV</td>\n",
       "      <td>200.0</td>\n",
       "      <td>700.0</td>\n",
       "      <td>2.5</td>\n",
       "      <td>2014-07-19 00:22:24</td>\n",
       "    </tr>\n",
       "    <tr>\n",
       "      <th>2</th>\n",
       "      <td>0063800000cvBmxAAE</td>\n",
       "      <td>240000.0</td>\n",
       "      <td>311000.0</td>\n",
       "      <td>0.3</td>\n",
       "      <td>2016-10-20 07:37:29</td>\n",
       "    </tr>\n",
       "    <tr>\n",
       "      <th>3</th>\n",
       "      <td>0063800000dQ0pNAAS</td>\n",
       "      <td>15024.0</td>\n",
       "      <td>19048.0</td>\n",
       "      <td>0.3</td>\n",
       "      <td>2016-11-08 15:07:08</td>\n",
       "    </tr>\n",
       "    <tr>\n",
       "      <th>4</th>\n",
       "      <td>0063800000cTh1cAAC</td>\n",
       "      <td>5000.0</td>\n",
       "      <td>12000.0</td>\n",
       "      <td>1.4</td>\n",
       "      <td>2016-12-05 17:01:43</td>\n",
       "    </tr>\n",
       "  </tbody>\n",
       "</table>\n",
       "</div>"
      ],
      "text/plain": [
       "        opportunityid  oldvalue  newvalue  change_rate         createddate\n",
       "0  0063800000dQcD6AAK   50000.0  100000.0          1.0 2016-10-21 20:25:54\n",
       "1  0065000000MkJ3PAAV     200.0     700.0          2.5 2014-07-19 00:22:24\n",
       "2  0063800000cvBmxAAE  240000.0  311000.0          0.3 2016-10-20 07:37:29\n",
       "3  0063800000dQ0pNAAS   15024.0   19048.0          0.3 2016-11-08 15:07:08\n",
       "4  0063800000cTh1cAAC    5000.0   12000.0          1.4 2016-12-05 17:01:43"
      ]
     },
     "execution_count": 196,
     "metadata": {},
     "output_type": "execute_result"
    }
   ],
   "source": [
    "# value_sql.head()"
   ]
  },
  {
   "cell_type": "markdown",
   "metadata": {},
   "source": [
    "## Part 2. Look at all the Data -Overview "
   ]
  },
  {
   "cell_type": "code",
   "execution_count": 149,
   "metadata": {},
   "outputs": [
    {
     "data": {
      "text/plain": [
       "(59361, 5)"
      ]
     },
     "execution_count": 149,
     "metadata": {},
     "output_type": "execute_result"
    }
   ],
   "source": [
    "value.shape ## Check how many data in total , (row, columns) "
   ]
  },
  {
   "cell_type": "code",
   "execution_count": 151,
   "metadata": {},
   "outputs": [],
   "source": [
    "# if you are using SQL to operate, then you don't need this step 👍🏻\n",
    "value=value[['opportunityid','oldvalue','newvalue']].fillna(-1)# Fill Nan Value with -1 and delete te null values\n",
    "\n",
    "value=value[(value['oldvalue'] != -1)&(value['newvalue'] != -1)]\n",
    "value=value[(value['oldvalue']!=0.0)&(value['newvalue']!=0.0)]"
   ]
  },
  {
   "cell_type": "code",
   "execution_count": 152,
   "metadata": {},
   "outputs": [
    {
     "data": {
      "text/html": [
       "<div>\n",
       "<style scoped>\n",
       "    .dataframe tbody tr th:only-of-type {\n",
       "        vertical-align: middle;\n",
       "    }\n",
       "\n",
       "    .dataframe tbody tr th {\n",
       "        vertical-align: top;\n",
       "    }\n",
       "\n",
       "    .dataframe thead th {\n",
       "        text-align: right;\n",
       "    }\n",
       "</style>\n",
       "<table border=\"1\" class=\"dataframe\">\n",
       "  <thead>\n",
       "    <tr style=\"text-align: right;\">\n",
       "      <th></th>\n",
       "      <th>opportunityid</th>\n",
       "      <th>oldvalue</th>\n",
       "      <th>newvalue</th>\n",
       "    </tr>\n",
       "  </thead>\n",
       "  <tbody>\n",
       "    <tr>\n",
       "      <th>3</th>\n",
       "      <td>0063800000kpTKgAAM</td>\n",
       "      <td>600.0</td>\n",
       "      <td>400.0</td>\n",
       "    </tr>\n",
       "    <tr>\n",
       "      <th>4</th>\n",
       "      <td>0063800000kqTVOAA2</td>\n",
       "      <td>166654.0</td>\n",
       "      <td>83327.0</td>\n",
       "    </tr>\n",
       "    <tr>\n",
       "      <th>5</th>\n",
       "      <td>0063800000oWSYwAAO</td>\n",
       "      <td>125.0</td>\n",
       "      <td>1050.0</td>\n",
       "    </tr>\n",
       "    <tr>\n",
       "      <th>15</th>\n",
       "      <td>0063800000mNSg9AAG</td>\n",
       "      <td>100.0</td>\n",
       "      <td>1000.0</td>\n",
       "    </tr>\n",
       "    <tr>\n",
       "      <th>24</th>\n",
       "      <td>0060z00001wmZQwAAM</td>\n",
       "      <td>700.0</td>\n",
       "      <td>2000.0</td>\n",
       "    </tr>\n",
       "    <tr>\n",
       "      <th>...</th>\n",
       "      <td>...</td>\n",
       "      <td>...</td>\n",
       "      <td>...</td>\n",
       "    </tr>\n",
       "    <tr>\n",
       "      <th>59331</th>\n",
       "      <td>0060z000022AubfAAC</td>\n",
       "      <td>20000.0</td>\n",
       "      <td>15000.0</td>\n",
       "    </tr>\n",
       "    <tr>\n",
       "      <th>59340</th>\n",
       "      <td>0060z000022v6ZSAAY</td>\n",
       "      <td>10000.0</td>\n",
       "      <td>20000.0</td>\n",
       "    </tr>\n",
       "    <tr>\n",
       "      <th>59343</th>\n",
       "      <td>0060z0000228YCRAA2</td>\n",
       "      <td>11000.0</td>\n",
       "      <td>5000.0</td>\n",
       "    </tr>\n",
       "    <tr>\n",
       "      <th>59346</th>\n",
       "      <td>0060z000022thFWAAY</td>\n",
       "      <td>1500.0</td>\n",
       "      <td>7500.0</td>\n",
       "    </tr>\n",
       "    <tr>\n",
       "      <th>59356</th>\n",
       "      <td>0060z000023tVocAAE</td>\n",
       "      <td>600.0</td>\n",
       "      <td>6000.0</td>\n",
       "    </tr>\n",
       "  </tbody>\n",
       "</table>\n",
       "<p>10684 rows × 3 columns</p>\n",
       "</div>"
      ],
      "text/plain": [
       "            opportunityid  oldvalue  newvalue\n",
       "3      0063800000kpTKgAAM     600.0     400.0\n",
       "4      0063800000kqTVOAA2  166654.0   83327.0\n",
       "5      0063800000oWSYwAAO     125.0    1050.0\n",
       "15     0063800000mNSg9AAG     100.0    1000.0\n",
       "24     0060z00001wmZQwAAM     700.0    2000.0\n",
       "...                   ...       ...       ...\n",
       "59331  0060z000022AubfAAC   20000.0   15000.0\n",
       "59340  0060z000022v6ZSAAY   10000.0   20000.0\n",
       "59343  0060z0000228YCRAA2   11000.0    5000.0\n",
       "59346  0060z000022thFWAAY    1500.0    7500.0\n",
       "59356  0060z000023tVocAAE     600.0    6000.0\n",
       "\n",
       "[10684 rows x 3 columns]"
      ]
     },
     "execution_count": 152,
     "metadata": {},
     "output_type": "execute_result"
    }
   ],
   "source": [
    "value ## look at how the table looks like "
   ]
  },
  {
   "cell_type": "code",
   "execution_count": 153,
   "metadata": {},
   "outputs": [],
   "source": [
    "value['change_rate']=(value['newvalue']-value['oldvalue'])/value['oldvalue']# caculate the change_rate"
   ]
  },
  {
   "cell_type": "code",
   "execution_count": 154,
   "metadata": {},
   "outputs": [
    {
     "data": {
      "text/html": [
       "<div>\n",
       "<style scoped>\n",
       "    .dataframe tbody tr th:only-of-type {\n",
       "        vertical-align: middle;\n",
       "    }\n",
       "\n",
       "    .dataframe tbody tr th {\n",
       "        vertical-align: top;\n",
       "    }\n",
       "\n",
       "    .dataframe thead th {\n",
       "        text-align: right;\n",
       "    }\n",
       "</style>\n",
       "<table border=\"1\" class=\"dataframe\">\n",
       "  <thead>\n",
       "    <tr style=\"text-align: right;\">\n",
       "      <th></th>\n",
       "      <th>opportunityid</th>\n",
       "      <th>oldvalue</th>\n",
       "      <th>newvalue</th>\n",
       "      <th>change_rate</th>\n",
       "    </tr>\n",
       "  </thead>\n",
       "  <tbody>\n",
       "    <tr>\n",
       "      <th>3</th>\n",
       "      <td>0063800000kpTKgAAM</td>\n",
       "      <td>600.0</td>\n",
       "      <td>400.0</td>\n",
       "      <td>-0.333333</td>\n",
       "    </tr>\n",
       "    <tr>\n",
       "      <th>4</th>\n",
       "      <td>0063800000kqTVOAA2</td>\n",
       "      <td>166654.0</td>\n",
       "      <td>83327.0</td>\n",
       "      <td>-0.500000</td>\n",
       "    </tr>\n",
       "    <tr>\n",
       "      <th>5</th>\n",
       "      <td>0063800000oWSYwAAO</td>\n",
       "      <td>125.0</td>\n",
       "      <td>1050.0</td>\n",
       "      <td>7.400000</td>\n",
       "    </tr>\n",
       "    <tr>\n",
       "      <th>15</th>\n",
       "      <td>0063800000mNSg9AAG</td>\n",
       "      <td>100.0</td>\n",
       "      <td>1000.0</td>\n",
       "      <td>9.000000</td>\n",
       "    </tr>\n",
       "    <tr>\n",
       "      <th>24</th>\n",
       "      <td>0060z00001wmZQwAAM</td>\n",
       "      <td>700.0</td>\n",
       "      <td>2000.0</td>\n",
       "      <td>1.857143</td>\n",
       "    </tr>\n",
       "    <tr>\n",
       "      <th>...</th>\n",
       "      <td>...</td>\n",
       "      <td>...</td>\n",
       "      <td>...</td>\n",
       "      <td>...</td>\n",
       "    </tr>\n",
       "    <tr>\n",
       "      <th>59331</th>\n",
       "      <td>0060z000022AubfAAC</td>\n",
       "      <td>20000.0</td>\n",
       "      <td>15000.0</td>\n",
       "      <td>-0.250000</td>\n",
       "    </tr>\n",
       "    <tr>\n",
       "      <th>59340</th>\n",
       "      <td>0060z000022v6ZSAAY</td>\n",
       "      <td>10000.0</td>\n",
       "      <td>20000.0</td>\n",
       "      <td>1.000000</td>\n",
       "    </tr>\n",
       "    <tr>\n",
       "      <th>59343</th>\n",
       "      <td>0060z0000228YCRAA2</td>\n",
       "      <td>11000.0</td>\n",
       "      <td>5000.0</td>\n",
       "      <td>-0.545455</td>\n",
       "    </tr>\n",
       "    <tr>\n",
       "      <th>59346</th>\n",
       "      <td>0060z000022thFWAAY</td>\n",
       "      <td>1500.0</td>\n",
       "      <td>7500.0</td>\n",
       "      <td>4.000000</td>\n",
       "    </tr>\n",
       "    <tr>\n",
       "      <th>59356</th>\n",
       "      <td>0060z000023tVocAAE</td>\n",
       "      <td>600.0</td>\n",
       "      <td>6000.0</td>\n",
       "      <td>9.000000</td>\n",
       "    </tr>\n",
       "  </tbody>\n",
       "</table>\n",
       "<p>10684 rows × 4 columns</p>\n",
       "</div>"
      ],
      "text/plain": [
       "            opportunityid  oldvalue  newvalue  change_rate\n",
       "3      0063800000kpTKgAAM     600.0     400.0    -0.333333\n",
       "4      0063800000kqTVOAA2  166654.0   83327.0    -0.500000\n",
       "5      0063800000oWSYwAAO     125.0    1050.0     7.400000\n",
       "15     0063800000mNSg9AAG     100.0    1000.0     9.000000\n",
       "24     0060z00001wmZQwAAM     700.0    2000.0     1.857143\n",
       "...                   ...       ...       ...          ...\n",
       "59331  0060z000022AubfAAC   20000.0   15000.0    -0.250000\n",
       "59340  0060z000022v6ZSAAY   10000.0   20000.0     1.000000\n",
       "59343  0060z0000228YCRAA2   11000.0    5000.0    -0.545455\n",
       "59346  0060z000022thFWAAY    1500.0    7500.0     4.000000\n",
       "59356  0060z000023tVocAAE     600.0    6000.0     9.000000\n",
       "\n",
       "[10684 rows x 4 columns]"
      ]
     },
     "execution_count": 154,
     "metadata": {},
     "output_type": "execute_result"
    }
   ],
   "source": [
    "value"
   ]
  },
  {
   "cell_type": "markdown",
   "metadata": {},
   "source": [
    "Start with this part if you are using SQL "
   ]
  },
  {
   "cell_type": "code",
   "execution_count": 155,
   "metadata": {},
   "outputs": [
    {
     "data": {
      "text/html": [
       "<div>\n",
       "<style scoped>\n",
       "    .dataframe tbody tr th:only-of-type {\n",
       "        vertical-align: middle;\n",
       "    }\n",
       "\n",
       "    .dataframe tbody tr th {\n",
       "        vertical-align: top;\n",
       "    }\n",
       "\n",
       "    .dataframe thead th {\n",
       "        text-align: right;\n",
       "    }\n",
       "</style>\n",
       "<table border=\"1\" class=\"dataframe\">\n",
       "  <thead>\n",
       "    <tr style=\"text-align: right;\">\n",
       "      <th></th>\n",
       "      <th>opportunityid</th>\n",
       "      <th>oldvalue</th>\n",
       "      <th>newvalue</th>\n",
       "      <th>change_rate</th>\n",
       "    </tr>\n",
       "  </thead>\n",
       "  <tbody>\n",
       "    <tr>\n",
       "      <th>4178</th>\n",
       "      <td>0060z00001xrZS0AAM</td>\n",
       "      <td>374304.0</td>\n",
       "      <td>3.74</td>\n",
       "      <td>-0.999990</td>\n",
       "    </tr>\n",
       "    <tr>\n",
       "      <th>10865</th>\n",
       "      <td>0060z000023T8s4AAC</td>\n",
       "      <td>53500.0</td>\n",
       "      <td>1.00</td>\n",
       "      <td>-0.999981</td>\n",
       "    </tr>\n",
       "    <tr>\n",
       "      <th>27384</th>\n",
       "      <td>0060z00001z0go3AAA</td>\n",
       "      <td>15000.0</td>\n",
       "      <td>1.00</td>\n",
       "      <td>-0.999933</td>\n",
       "    </tr>\n",
       "    <tr>\n",
       "      <th>50140</th>\n",
       "      <td>0060z00001wnLA7AAM</td>\n",
       "      <td>7129.0</td>\n",
       "      <td>1.00</td>\n",
       "      <td>-0.999860</td>\n",
       "    </tr>\n",
       "    <tr>\n",
       "      <th>20505</th>\n",
       "      <td>0063800000kqxbxAAA</td>\n",
       "      <td>6500.0</td>\n",
       "      <td>1.00</td>\n",
       "      <td>-0.999846</td>\n",
       "    </tr>\n",
       "  </tbody>\n",
       "</table>\n",
       "</div>"
      ],
      "text/plain": [
       "            opportunityid  oldvalue  newvalue  change_rate\n",
       "4178   0060z00001xrZS0AAM  374304.0      3.74    -0.999990\n",
       "10865  0060z000023T8s4AAC   53500.0      1.00    -0.999981\n",
       "27384  0060z00001z0go3AAA   15000.0      1.00    -0.999933\n",
       "50140  0060z00001wnLA7AAM    7129.0      1.00    -0.999860\n",
       "20505  0063800000kqxbxAAA    6500.0      1.00    -0.999846"
      ]
     },
     "execution_count": 155,
     "metadata": {},
     "output_type": "execute_result"
    }
   ],
   "source": [
    "value1=value.sort_values(by='change_rate') ## sort by the change_rate\n",
    "value1.head()"
   ]
  },
  {
   "cell_type": "code",
   "execution_count": 156,
   "metadata": {},
   "outputs": [],
   "source": [
    "change_rate=value.groupby(['change_rate'])['change_rate'].agg('count').to_frame().rename(columns={'change_rate':'count'})\n",
    "change_rate=change_rate.reset_index()"
   ]
  },
  {
   "cell_type": "code",
   "execution_count": 157,
   "metadata": {},
   "outputs": [
    {
     "data": {
      "text/html": [
       "<div>\n",
       "<style scoped>\n",
       "    .dataframe tbody tr th:only-of-type {\n",
       "        vertical-align: middle;\n",
       "    }\n",
       "\n",
       "    .dataframe tbody tr th {\n",
       "        vertical-align: top;\n",
       "    }\n",
       "\n",
       "    .dataframe thead th {\n",
       "        text-align: right;\n",
       "    }\n",
       "</style>\n",
       "<table border=\"1\" class=\"dataframe\">\n",
       "  <thead>\n",
       "    <tr style=\"text-align: right;\">\n",
       "      <th></th>\n",
       "      <th>change_rate</th>\n",
       "      <th>count</th>\n",
       "    </tr>\n",
       "  </thead>\n",
       "  <tbody>\n",
       "    <tr>\n",
       "      <th>0</th>\n",
       "      <td>-0.999990</td>\n",
       "      <td>1</td>\n",
       "    </tr>\n",
       "    <tr>\n",
       "      <th>1</th>\n",
       "      <td>-0.999981</td>\n",
       "      <td>1</td>\n",
       "    </tr>\n",
       "    <tr>\n",
       "      <th>2</th>\n",
       "      <td>-0.999933</td>\n",
       "      <td>1</td>\n",
       "    </tr>\n",
       "    <tr>\n",
       "      <th>3</th>\n",
       "      <td>-0.999860</td>\n",
       "      <td>1</td>\n",
       "    </tr>\n",
       "    <tr>\n",
       "      <th>4</th>\n",
       "      <td>-0.999846</td>\n",
       "      <td>1</td>\n",
       "    </tr>\n",
       "    <tr>\n",
       "      <th>...</th>\n",
       "      <td>...</td>\n",
       "      <td>...</td>\n",
       "    </tr>\n",
       "    <tr>\n",
       "      <th>3996</th>\n",
       "      <td>3999.000000</td>\n",
       "      <td>1</td>\n",
       "    </tr>\n",
       "    <tr>\n",
       "      <th>3997</th>\n",
       "      <td>9999.000000</td>\n",
       "      <td>1</td>\n",
       "    </tr>\n",
       "    <tr>\n",
       "      <th>3998</th>\n",
       "      <td>10799.000000</td>\n",
       "      <td>1</td>\n",
       "    </tr>\n",
       "    <tr>\n",
       "      <th>3999</th>\n",
       "      <td>29999.000000</td>\n",
       "      <td>1</td>\n",
       "    </tr>\n",
       "    <tr>\n",
       "      <th>4000</th>\n",
       "      <td>32500.000000</td>\n",
       "      <td>1</td>\n",
       "    </tr>\n",
       "  </tbody>\n",
       "</table>\n",
       "<p>4001 rows × 2 columns</p>\n",
       "</div>"
      ],
      "text/plain": [
       "       change_rate  count\n",
       "0        -0.999990      1\n",
       "1        -0.999981      1\n",
       "2        -0.999933      1\n",
       "3        -0.999860      1\n",
       "4        -0.999846      1\n",
       "...            ...    ...\n",
       "3996   3999.000000      1\n",
       "3997   9999.000000      1\n",
       "3998  10799.000000      1\n",
       "3999  29999.000000      1\n",
       "4000  32500.000000      1\n",
       "\n",
       "[4001 rows x 2 columns]"
      ]
     },
     "execution_count": 157,
     "metadata": {},
     "output_type": "execute_result"
    }
   ],
   "source": [
    "change_rate  ## the count for each change Rate"
   ]
  },
  {
   "cell_type": "code",
   "execution_count": 41,
   "metadata": {},
   "outputs": [
    {
     "data": {
      "image/png": "[encoded data removed]",
      "text/plain": [
       "<Figure size 864x576 with 1 Axes>"
      ]
     },
     "metadata": {},
     "output_type": "display_data"
    }
   ],
   "source": [
    "sns.set_style('white')\n",
    "plt.figure(figsize=(12, 8))\n",
    "sns.distplot(value1['change_rate'])\n",
    "plt.xlabel('change_rate')\n",
    "plt.ylabel('Frequency')\n",
    "plt.title('Stars Distribution')\n",
    "plt.show()  ## Draw the distribution "
   ]
  },
  {
   "cell_type": "markdown",
   "metadata": {},
   "source": [
    "## Part 3. Divided into >0 and <0 "
   ]
  },
  {
   "cell_type": "markdown",
   "metadata": {},
   "source": [
    "## Negative Data"
   ]
  },
  {
   "cell_type": "code",
   "execution_count": 59,
   "metadata": {},
   "outputs": [
    {
     "data": {
      "text/plain": [
       "(4505, 3)"
      ]
     },
     "execution_count": 59,
     "metadata": {},
     "output_type": "execute_result"
    }
   ],
   "source": [
    "negative=value1.loc[value1['change_rate']<0]\n",
    "negative.shape"
   ]
  },
  {
   "cell_type": "code",
   "execution_count": 60,
   "metadata": {},
   "outputs": [
    {
     "data": {
      "text/html": [
       "<div>\n",
       "<style scoped>\n",
       "    .dataframe tbody tr th:only-of-type {\n",
       "        vertical-align: middle;\n",
       "    }\n",
       "\n",
       "    .dataframe tbody tr th {\n",
       "        vertical-align: top;\n",
       "    }\n",
       "\n",
       "    .dataframe thead th {\n",
       "        text-align: right;\n",
       "    }\n",
       "</style>\n",
       "<table border=\"1\" class=\"dataframe\">\n",
       "  <thead>\n",
       "    <tr style=\"text-align: right;\">\n",
       "      <th></th>\n",
       "      <th>oldvalue</th>\n",
       "      <th>newvalue</th>\n",
       "      <th>change_rate</th>\n",
       "    </tr>\n",
       "  </thead>\n",
       "  <tbody>\n",
       "    <tr>\n",
       "      <th>count</th>\n",
       "      <td>4.505000e+03</td>\n",
       "      <td>4.505000e+03</td>\n",
       "      <td>4.505000e+03</td>\n",
       "    </tr>\n",
       "    <tr>\n",
       "      <th>mean</th>\n",
       "      <td>7.578970e+04</td>\n",
       "      <td>3.958787e+04</td>\n",
       "      <td>-4.678953e-01</td>\n",
       "    </tr>\n",
       "    <tr>\n",
       "      <th>std</th>\n",
       "      <td>8.731711e+05</td>\n",
       "      <td>5.373420e+05</td>\n",
       "      <td>2.686795e-01</td>\n",
       "    </tr>\n",
       "    <tr>\n",
       "      <th>min</th>\n",
       "      <td>3.000000e-02</td>\n",
       "      <td>2.000000e-02</td>\n",
       "      <td>-9.999900e-01</td>\n",
       "    </tr>\n",
       "    <tr>\n",
       "      <th>25%</th>\n",
       "      <td>1.000000e+03</td>\n",
       "      <td>4.000000e+02</td>\n",
       "      <td>-6.666667e-01</td>\n",
       "    </tr>\n",
       "    <tr>\n",
       "      <th>50%</th>\n",
       "      <td>4.000000e+03</td>\n",
       "      <td>1.620000e+03</td>\n",
       "      <td>-5.000000e-01</td>\n",
       "    </tr>\n",
       "    <tr>\n",
       "      <th>75%</th>\n",
       "      <td>1.551905e+04</td>\n",
       "      <td>7.400000e+03</td>\n",
       "      <td>-2.500000e-01</td>\n",
       "    </tr>\n",
       "    <tr>\n",
       "      <th>max</th>\n",
       "      <td>3.200000e+07</td>\n",
       "      <td>2.020000e+07</td>\n",
       "      <td>-2.360044e-07</td>\n",
       "    </tr>\n",
       "  </tbody>\n",
       "</table>\n",
       "</div>"
      ],
      "text/plain": [
       "           oldvalue      newvalue   change_rate\n",
       "count  4.505000e+03  4.505000e+03  4.505000e+03\n",
       "mean   7.578970e+04  3.958787e+04 -4.678953e-01\n",
       "std    8.731711e+05  5.373420e+05  2.686795e-01\n",
       "min    3.000000e-02  2.000000e-02 -9.999900e-01\n",
       "25%    1.000000e+03  4.000000e+02 -6.666667e-01\n",
       "50%    4.000000e+03  1.620000e+03 -5.000000e-01\n",
       "75%    1.551905e+04  7.400000e+03 -2.500000e-01\n",
       "max    3.200000e+07  2.020000e+07 -2.360044e-07"
      ]
     },
     "execution_count": 60,
     "metadata": {},
     "output_type": "execute_result"
    }
   ],
   "source": [
    "negative.describe() ## to look at the stats description of the nagative change rate "
   ]
  },
  {
   "cell_type": "code",
   "execution_count": 61,
   "metadata": {},
   "outputs": [
    {
     "data": {
      "image/png": "[encoded data removed]",
      "text/plain": [
       "<Figure size 864x576 with 1 Axes>"
      ]
     },
     "metadata": {},
     "output_type": "display_data"
    }
   ],
   "source": [
    "sns.set_style('white')\n",
    "plt.figure(figsize=(12, 8))\n",
    "sns.distplot(negative['change_rate'])\n",
    "plt.xlabel('change_rate')\n",
    "plt.ylabel('Frequency')\n",
    "plt.title('Stars Distribution')\n",
    "plt.show()"
   ]
  },
  {
   "cell_type": "markdown",
   "metadata": {},
   "source": [
    "## By conducting the normal K-test, if the P value >0.05 then it is normal distribution"
   ]
  },
  {
   "cell_type": "code",
   "execution_count": 101,
   "metadata": {},
   "outputs": [
    {
     "data": {
      "text/plain": [
       "KstestResult(statistic=0.5000000941521514, pvalue=0.0)"
      ]
     },
     "execution_count": 101,
     "metadata": {},
     "output_type": "execute_result"
    }
   ],
   "source": [
    "from scipy.stats import kstest\n",
    "import numpy as np\n",
    "\n",
    "x = negative['change_rate']\n",
    "test_stat = kstest(x, 'norm')\n",
    "test_stat"
   ]
  },
  {
   "cell_type": "code",
   "execution_count": 102,
   "metadata": {},
   "outputs": [
    {
     "data": {
      "text/plain": [
       "NormaltestResult(statistic=608.6911666267833, pvalue=6.674097938246343e-133)"
      ]
     },
     "execution_count": 102,
     "metadata": {},
     "output_type": "execute_result"
    }
   ],
   "source": [
    "import numpy as np\n",
    "from scipy.stats import normaltest\n",
    "x = negative['change_rate']\n",
    "normaltest(x, axis=None)"
   ]
  },
  {
   "cell_type": "code",
   "execution_count": 93,
   "metadata": {},
   "outputs": [],
   "source": [
    "# caculate mean and std\n",
    "mean=negative['change_rate'].mean()\n",
    "std=np.std(negative['change_rate'], ddof = 1)"
   ]
  },
  {
   "cell_type": "markdown",
   "metadata": {},
   "source": [
    "## When it is normal distribution, then we use (mean -2* std ) as criteria "
   ]
  },
  {
   "cell_type": "code",
   "execution_count": 99,
   "metadata": {},
   "outputs": [
    {
     "data": {
      "text/plain": [
       "-1.005254314813055"
      ]
     },
     "execution_count": 99,
     "metadata": {},
     "output_type": "execute_result"
    }
   ],
   "source": [
    "mean-2*std"
   ]
  },
  {
   "cell_type": "markdown",
   "metadata": {},
   "source": [
    "### you can actually omit this part, this is help us to have an understanding of how does the mean value fluctuates in here "
   ]
  },
  {
   "cell_type": "code",
   "execution_count": 96,
   "metadata": {},
   "outputs": [
    {
     "data": {
      "text/plain": [
       "-0.46789527912703877"
      ]
     },
     "execution_count": 96,
     "metadata": {},
     "output_type": "execute_result"
    }
   ],
   "source": [
    "sample_mean=negative['change_rate'].mean()\n",
    "sample_mean"
   ]
  },
  {
   "cell_type": "code",
   "execution_count": 103,
   "metadata": {},
   "outputs": [
    {
     "data": {
      "text/plain": [
       "0.0040030144941905375"
      ]
     },
     "execution_count": 103,
     "metadata": {},
     "output_type": "execute_result"
    }
   ],
   "source": [
    "standard_error = std/np.sqrt(4505)     #                          \n",
    "standard_error"
   ]
  },
  {
   "cell_type": "code",
   "execution_count": 83,
   "metadata": {},
   "outputs": [
    {
     "data": {
      "text/plain": [
       "-0.48360581321509105"
      ]
     },
     "execution_count": 83,
     "metadata": {},
     "output_type": "execute_result"
    }
   ],
   "source": [
    "lower_bound_95_perc = sample_mean - 1.96*2*standard_error\n",
    "lower_bound_95_perc"
   ]
  },
  {
   "cell_type": "code",
   "execution_count": 105,
   "metadata": {},
   "outputs": [
    {
     "data": {
      "text/plain": [
       "-0.45220346230981184"
      ]
     },
     "execution_count": 105,
     "metadata": {},
     "output_type": "execute_result"
    }
   ],
   "source": [
    "upper_bound_95_perc = sample_mean + 1.96*2*standard_error\n",
    "upper_bound_95_perc"
   ]
  },
  {
   "cell_type": "code",
   "execution_count": 106,
   "metadata": {},
   "outputs": [
    {
     "data": {
      "image/png": "[encoded data removed]",
      "text/plain": [
       "<Figure size 432x288 with 1 Axes>"
      ]
     },
     "metadata": {},
     "output_type": "display_data"
    }
   ],
   "source": [
    "sns.distplot(negative['change_rate'], hist=False)\n",
    "plt.title(\"Distribution of avg_session_perday\", y=1.015, fontsize=20)\n",
    "plt.axvline(x=sample_mean, linestyle='--', linewidth=0.5, label=\"sample mean gym ppl (point estimate)\", c='orange')\n",
    "plt.axvline(x=lower_bound_95_perc, linestyle='--', linewidth=0.5, label=\"lower bound 95% CI (average_session_sample_mean - 1.96*SE)\", c='g')\n",
    "plt.axvline(x=upper_bound_95_perc, linestyle='--', linewidth=0.5, label=\"upper bound 95% CI (average_session_sample_mean + 1.96*SE)\", c='purple')\n",
    "plt.xlabel(\"sample mean of average_session_counts\", labelpad=14)\n",
    "plt.ylabel(\"frequency of occurence\", labelpad=14)\n",
    "plt.legend(bbox_to_anchor=(1.01, 1), loc=\"upper left\");"
   ]
  },
  {
   "cell_type": "markdown",
   "metadata": {},
   "source": [
    "## If it not normal distribution, it is still okay, we still can use that 10% standards as an criteria "
   ]
  },
  {
   "cell_type": "markdown",
   "metadata": {},
   "source": [
    "Let's back to the stats description table, we always focus on 3 indicators, mean , 25% (which means 25% of the data are less than that num)"
   ]
  },
  {
   "cell_type": "markdown",
   "metadata": {},
   "source": [
    "remember that the total number of negative is  4505."
   ]
  },
  {
   "cell_type": "code",
   "execution_count": 86,
   "metadata": {},
   "outputs": [
    {
     "data": {
      "text/plain": [
       "change_rate   -373.657246\n",
       "count          995.000000\n",
       "dtype: float64"
      ]
     },
     "execution_count": 86,
     "metadata": {},
     "output_type": "execute_result"
    }
   ],
   "source": [
    "NUM=change_rate[change_rate['change_rate']<-0.7].agg('sum')\n",
    "NUM"
   ]
  },
  {
   "cell_type": "code",
   "execution_count": 198,
   "metadata": {},
   "outputs": [
    {
     "data": {
      "text/plain": [
       "change_rate   -160.353792\n",
       "count          265.000000\n",
       "dtype: float64"
      ]
     },
     "execution_count": 198,
     "metadata": {},
     "output_type": "execute_result"
    }
   ],
   "source": [
    "NUM=change_rate[change_rate['change_rate']<-0.9].agg('sum')\n",
    "NUM"
   ]
  },
  {
   "cell_type": "code",
   "execution_count": 199,
   "metadata": {},
   "outputs": [
    {
     "data": {
      "text/html": [
       "<div>\n",
       "<style scoped>\n",
       "    .dataframe tbody tr th:only-of-type {\n",
       "        vertical-align: middle;\n",
       "    }\n",
       "\n",
       "    .dataframe tbody tr th {\n",
       "        vertical-align: top;\n",
       "    }\n",
       "\n",
       "    .dataframe thead th {\n",
       "        text-align: right;\n",
       "    }\n",
       "</style>\n",
       "<table border=\"1\" class=\"dataframe\">\n",
       "  <thead>\n",
       "    <tr style=\"text-align: right;\">\n",
       "      <th></th>\n",
       "      <th>oldvalue</th>\n",
       "      <th>newvalue</th>\n",
       "      <th>change_rate</th>\n",
       "    </tr>\n",
       "  </thead>\n",
       "  <tbody>\n",
       "    <tr>\n",
       "      <th>4178</th>\n",
       "      <td>374304.0</td>\n",
       "      <td>3.74</td>\n",
       "      <td>-0.999990</td>\n",
       "    </tr>\n",
       "    <tr>\n",
       "      <th>10865</th>\n",
       "      <td>53500.0</td>\n",
       "      <td>1.00</td>\n",
       "      <td>-0.999981</td>\n",
       "    </tr>\n",
       "    <tr>\n",
       "      <th>27384</th>\n",
       "      <td>15000.0</td>\n",
       "      <td>1.00</td>\n",
       "      <td>-0.999933</td>\n",
       "    </tr>\n",
       "    <tr>\n",
       "      <th>50140</th>\n",
       "      <td>7129.0</td>\n",
       "      <td>1.00</td>\n",
       "      <td>-0.999860</td>\n",
       "    </tr>\n",
       "    <tr>\n",
       "      <th>20505</th>\n",
       "      <td>6500.0</td>\n",
       "      <td>1.00</td>\n",
       "      <td>-0.999846</td>\n",
       "    </tr>\n",
       "    <tr>\n",
       "      <th>...</th>\n",
       "      <td>...</td>\n",
       "      <td>...</td>\n",
       "      <td>...</td>\n",
       "    </tr>\n",
       "    <tr>\n",
       "      <th>3613</th>\n",
       "      <td>76284.0</td>\n",
       "      <td>10284.00</td>\n",
       "      <td>-0.865188</td>\n",
       "    </tr>\n",
       "    <tr>\n",
       "      <th>43156</th>\n",
       "      <td>2500.0</td>\n",
       "      <td>337.34</td>\n",
       "      <td>-0.865064</td>\n",
       "    </tr>\n",
       "    <tr>\n",
       "      <th>47599</th>\n",
       "      <td>5000.0</td>\n",
       "      <td>680.00</td>\n",
       "      <td>-0.864000</td>\n",
       "    </tr>\n",
       "    <tr>\n",
       "      <th>33335</th>\n",
       "      <td>11000.0</td>\n",
       "      <td>1500.00</td>\n",
       "      <td>-0.863636</td>\n",
       "    </tr>\n",
       "    <tr>\n",
       "      <th>35431</th>\n",
       "      <td>580.0</td>\n",
       "      <td>80.00</td>\n",
       "      <td>-0.862069</td>\n",
       "    </tr>\n",
       "  </tbody>\n",
       "</table>\n",
       "<p>450 rows × 3 columns</p>\n",
       "</div>"
      ],
      "text/plain": [
       "       oldvalue  newvalue  change_rate\n",
       "4178   374304.0      3.74    -0.999990\n",
       "10865   53500.0      1.00    -0.999981\n",
       "27384   15000.0      1.00    -0.999933\n",
       "50140    7129.0      1.00    -0.999860\n",
       "20505    6500.0      1.00    -0.999846\n",
       "...         ...       ...          ...\n",
       "3613    76284.0  10284.00    -0.865188\n",
       "43156    2500.0    337.34    -0.865064\n",
       "47599    5000.0    680.00    -0.864000\n",
       "33335   11000.0   1500.00    -0.863636\n",
       "35431     580.0     80.00    -0.862069\n",
       "\n",
       "[450 rows x 3 columns]"
      ]
     },
     "execution_count": 199,
     "metadata": {},
     "output_type": "execute_result"
    }
   ],
   "source": [
    "negative=negative.sort_values(by='change_rate')\n",
    "negative.iloc[:450] ## 👍🏻 change it into the count of the 10% outlier"
   ]
  },
  {
   "cell_type": "code",
   "execution_count": 200,
   "metadata": {},
   "outputs": [
    {
     "data": {
      "text/plain": [
       "change_rate   -204.401622\n",
       "count          451.000000\n",
       "dtype: float64"
      ]
     },
     "execution_count": 200,
     "metadata": {},
     "output_type": "execute_result"
    }
   ],
   "source": [
    "NUM=change_rate[change_rate['change_rate']<-0.86].agg('sum')\n",
    "NUM"
   ]
  },
  {
   "cell_type": "code",
   "execution_count": 201,
   "metadata": {},
   "outputs": [
    {
     "data": {
      "image/png": "[encoded data removed]",
      "text/plain": [
       "<Figure size 432x288 with 1 Axes>"
      ]
     },
     "metadata": {},
     "output_type": "display_data"
    }
   ],
   "source": [
    "sns.distplot(negative['change_rate'], hist=False)\n",
    "plt.title(\"Distribution of Negative Change Rate\", y=1.015, fontsize=20)\n",
    "plt.axvline(x=sample_mean, linestyle='--', linewidth=0.5, label=\"sample mean gym ppl (point estimate)\", c='orange')\n",
    "plt.axvline(x=-0.86, linestyle='--', linewidth=0.5, label=\"lower bound 10% Outliers\", c='g')## 👍🏻 change x into the 10% outlier\n",
    "plt.axvline(x=-0.1, linestyle='--', linewidth=0.5, label=\"upper bound 10% Outliers\", c='purple')\n",
    "plt.xlabel(\"Sample Mean of Change Rate\", labelpad=14)\n",
    "plt.ylabel(\"Frequency of Occurence\", labelpad=14)\n",
    "\n",
    "plt.legend(bbox_to_anchor=(1.01, 1), loc=\"upper left\");"
   ]
  },
  {
   "cell_type": "markdown",
   "metadata": {},
   "source": [
    "## Positive Data"
   ]
  },
  {
   "cell_type": "code",
   "execution_count": 202,
   "metadata": {},
   "outputs": [
    {
     "data": {
      "text/plain": [
       "(6179, 4)"
      ]
     },
     "execution_count": 202,
     "metadata": {},
     "output_type": "execute_result"
    }
   ],
   "source": [
    "positive=value1.loc[value1['change_rate']>0]\n",
    "positive.shape"
   ]
  },
  {
   "cell_type": "code",
   "execution_count": 203,
   "metadata": {},
   "outputs": [],
   "source": [
    "positive=positive.sort_values(by=['change_rate'],ascending=False)"
   ]
  },
  {
   "cell_type": "code",
   "execution_count": 204,
   "metadata": {},
   "outputs": [
    {
     "data": {
      "text/html": [
       "<div>\n",
       "<style scoped>\n",
       "    .dataframe tbody tr th:only-of-type {\n",
       "        vertical-align: middle;\n",
       "    }\n",
       "\n",
       "    .dataframe tbody tr th {\n",
       "        vertical-align: top;\n",
       "    }\n",
       "\n",
       "    .dataframe thead th {\n",
       "        text-align: right;\n",
       "    }\n",
       "</style>\n",
       "<table border=\"1\" class=\"dataframe\">\n",
       "  <thead>\n",
       "    <tr style=\"text-align: right;\">\n",
       "      <th></th>\n",
       "      <th>opportunityid</th>\n",
       "      <th>oldvalue</th>\n",
       "      <th>newvalue</th>\n",
       "      <th>change_rate</th>\n",
       "    </tr>\n",
       "  </thead>\n",
       "  <tbody>\n",
       "    <tr>\n",
       "      <th>22496</th>\n",
       "      <td>0060z000022sAn0AAE</td>\n",
       "      <td>0.08</td>\n",
       "      <td>2600.08</td>\n",
       "      <td>3.250000e+04</td>\n",
       "    </tr>\n",
       "    <tr>\n",
       "      <th>40833</th>\n",
       "      <td>0060z000020e1BNAAY</td>\n",
       "      <td>1.00</td>\n",
       "      <td>30000.00</td>\n",
       "      <td>2.999900e+04</td>\n",
       "    </tr>\n",
       "    <tr>\n",
       "      <th>29997</th>\n",
       "      <td>0063800000kqxbxAAA</td>\n",
       "      <td>1.00</td>\n",
       "      <td>10800.00</td>\n",
       "      <td>1.079900e+04</td>\n",
       "    </tr>\n",
       "    <tr>\n",
       "      <th>52504</th>\n",
       "      <td>0060z000022A4hWAAS</td>\n",
       "      <td>1.00</td>\n",
       "      <td>10000.00</td>\n",
       "      <td>9.999000e+03</td>\n",
       "    </tr>\n",
       "    <tr>\n",
       "      <th>20881</th>\n",
       "      <td>0060z00002293tYAAQ</td>\n",
       "      <td>1.00</td>\n",
       "      <td>4000.00</td>\n",
       "      <td>3.999000e+03</td>\n",
       "    </tr>\n",
       "    <tr>\n",
       "      <th>...</th>\n",
       "      <td>...</td>\n",
       "      <td>...</td>\n",
       "      <td>...</td>\n",
       "      <td>...</td>\n",
       "    </tr>\n",
       "    <tr>\n",
       "      <th>10696</th>\n",
       "      <td>0060z00001wn3luAAA</td>\n",
       "      <td>4870.00</td>\n",
       "      <td>4870.13</td>\n",
       "      <td>2.669405e-05</td>\n",
       "    </tr>\n",
       "    <tr>\n",
       "      <th>7811</th>\n",
       "      <td>0060z00001wnWAwAAM</td>\n",
       "      <td>60000.00</td>\n",
       "      <td>60001.00</td>\n",
       "      <td>1.666667e-05</td>\n",
       "    </tr>\n",
       "    <tr>\n",
       "      <th>51727</th>\n",
       "      <td>0060z00001zcLobAAE</td>\n",
       "      <td>1525394.64</td>\n",
       "      <td>1525395.00</td>\n",
       "      <td>2.360045e-07</td>\n",
       "    </tr>\n",
       "    <tr>\n",
       "      <th>32143</th>\n",
       "      <td>0060z00001zcLobAAE</td>\n",
       "      <td>1525394.64</td>\n",
       "      <td>1525395.00</td>\n",
       "      <td>2.360045e-07</td>\n",
       "    </tr>\n",
       "    <tr>\n",
       "      <th>33281</th>\n",
       "      <td>0060z00001zcLobAAE</td>\n",
       "      <td>1525394.64</td>\n",
       "      <td>1525395.00</td>\n",
       "      <td>2.360045e-07</td>\n",
       "    </tr>\n",
       "  </tbody>\n",
       "</table>\n",
       "<p>6179 rows × 4 columns</p>\n",
       "</div>"
      ],
      "text/plain": [
       "            opportunityid    oldvalue    newvalue   change_rate\n",
       "22496  0060z000022sAn0AAE        0.08     2600.08  3.250000e+04\n",
       "40833  0060z000020e1BNAAY        1.00    30000.00  2.999900e+04\n",
       "29997  0063800000kqxbxAAA        1.00    10800.00  1.079900e+04\n",
       "52504  0060z000022A4hWAAS        1.00    10000.00  9.999000e+03\n",
       "20881  0060z00002293tYAAQ        1.00     4000.00  3.999000e+03\n",
       "...                   ...         ...         ...           ...\n",
       "10696  0060z00001wn3luAAA     4870.00     4870.13  2.669405e-05\n",
       "7811   0060z00001wnWAwAAM    60000.00    60001.00  1.666667e-05\n",
       "51727  0060z00001zcLobAAE  1525394.64  1525395.00  2.360045e-07\n",
       "32143  0060z00001zcLobAAE  1525394.64  1525395.00  2.360045e-07\n",
       "33281  0060z00001zcLobAAE  1525394.64  1525395.00  2.360045e-07\n",
       "\n",
       "[6179 rows x 4 columns]"
      ]
     },
     "execution_count": 204,
     "metadata": {},
     "output_type": "execute_result"
    }
   ],
   "source": [
    "positive"
   ]
  },
  {
   "cell_type": "code",
   "execution_count": 205,
   "metadata": {},
   "outputs": [
    {
     "data": {
      "text/html": [
       "<div>\n",
       "<style scoped>\n",
       "    .dataframe tbody tr th:only-of-type {\n",
       "        vertical-align: middle;\n",
       "    }\n",
       "\n",
       "    .dataframe tbody tr th {\n",
       "        vertical-align: top;\n",
       "    }\n",
       "\n",
       "    .dataframe thead th {\n",
       "        text-align: right;\n",
       "    }\n",
       "</style>\n",
       "<table border=\"1\" class=\"dataframe\">\n",
       "  <thead>\n",
       "    <tr style=\"text-align: right;\">\n",
       "      <th></th>\n",
       "      <th>oldvalue</th>\n",
       "      <th>newvalue</th>\n",
       "      <th>change_rate</th>\n",
       "    </tr>\n",
       "  </thead>\n",
       "  <tbody>\n",
       "    <tr>\n",
       "      <th>count</th>\n",
       "      <td>6.179000e+03</td>\n",
       "      <td>6.179000e+03</td>\n",
       "      <td>6.179000e+03</td>\n",
       "    </tr>\n",
       "    <tr>\n",
       "      <th>mean</th>\n",
       "      <td>2.719588e+04</td>\n",
       "      <td>5.690780e+04</td>\n",
       "      <td>2.344203e+01</td>\n",
       "    </tr>\n",
       "    <tr>\n",
       "      <th>std</th>\n",
       "      <td>4.070993e+05</td>\n",
       "      <td>7.553093e+05</td>\n",
       "      <td>6.018899e+02</td>\n",
       "    </tr>\n",
       "    <tr>\n",
       "      <th>min</th>\n",
       "      <td>1.000000e-02</td>\n",
       "      <td>8.000000e-02</td>\n",
       "      <td>2.360045e-07</td>\n",
       "    </tr>\n",
       "    <tr>\n",
       "      <th>25%</th>\n",
       "      <td>3.500000e+02</td>\n",
       "      <td>9.191600e+02</td>\n",
       "      <td>3.155034e-01</td>\n",
       "    </tr>\n",
       "    <tr>\n",
       "      <th>50%</th>\n",
       "      <td>1.001000e+03</td>\n",
       "      <td>3.000000e+03</td>\n",
       "      <td>1.000000e+00</td>\n",
       "    </tr>\n",
       "    <tr>\n",
       "      <th>75%</th>\n",
       "      <td>5.000000e+03</td>\n",
       "      <td>1.100000e+04</td>\n",
       "      <td>2.000000e+00</td>\n",
       "    </tr>\n",
       "    <tr>\n",
       "      <th>max</th>\n",
       "      <td>1.600000e+07</td>\n",
       "      <td>3.200000e+07</td>\n",
       "      <td>3.250000e+04</td>\n",
       "    </tr>\n",
       "  </tbody>\n",
       "</table>\n",
       "</div>"
      ],
      "text/plain": [
       "           oldvalue      newvalue   change_rate\n",
       "count  6.179000e+03  6.179000e+03  6.179000e+03\n",
       "mean   2.719588e+04  5.690780e+04  2.344203e+01\n",
       "std    4.070993e+05  7.553093e+05  6.018899e+02\n",
       "min    1.000000e-02  8.000000e-02  2.360045e-07\n",
       "25%    3.500000e+02  9.191600e+02  3.155034e-01\n",
       "50%    1.001000e+03  3.000000e+03  1.000000e+00\n",
       "75%    5.000000e+03  1.100000e+04  2.000000e+00\n",
       "max    1.600000e+07  3.200000e+07  3.250000e+04"
      ]
     },
     "execution_count": 205,
     "metadata": {},
     "output_type": "execute_result"
    }
   ],
   "source": [
    "positive.describe()## to look at the stats description of the positive change rate "
   ]
  },
  {
   "cell_type": "code",
   "execution_count": 206,
   "metadata": {},
   "outputs": [],
   "source": [
    "change_rate_pos=positive.groupby(['change_rate'])['change_rate'].agg('count').to_frame().rename(columns={'change_rate':'count'})\n",
    "change_rate_pos=change_rate_pos.reset_index()"
   ]
  },
  {
   "cell_type": "code",
   "execution_count": 207,
   "metadata": {},
   "outputs": [
    {
     "data": {
      "text/html": [
       "<div>\n",
       "<style scoped>\n",
       "    .dataframe tbody tr th:only-of-type {\n",
       "        vertical-align: middle;\n",
       "    }\n",
       "\n",
       "    .dataframe tbody tr th {\n",
       "        vertical-align: top;\n",
       "    }\n",
       "\n",
       "    .dataframe thead th {\n",
       "        text-align: right;\n",
       "    }\n",
       "</style>\n",
       "<table border=\"1\" class=\"dataframe\">\n",
       "  <thead>\n",
       "    <tr style=\"text-align: right;\">\n",
       "      <th></th>\n",
       "      <th>change_rate</th>\n",
       "      <th>count</th>\n",
       "    </tr>\n",
       "  </thead>\n",
       "  <tbody>\n",
       "    <tr>\n",
       "      <th>0</th>\n",
       "      <td>2.360045e-07</td>\n",
       "      <td>3</td>\n",
       "    </tr>\n",
       "    <tr>\n",
       "      <th>1</th>\n",
       "      <td>1.666667e-05</td>\n",
       "      <td>1</td>\n",
       "    </tr>\n",
       "    <tr>\n",
       "      <th>2</th>\n",
       "      <td>2.669405e-05</td>\n",
       "      <td>9</td>\n",
       "    </tr>\n",
       "    <tr>\n",
       "      <th>3</th>\n",
       "      <td>2.679098e-05</td>\n",
       "      <td>1</td>\n",
       "    </tr>\n",
       "    <tr>\n",
       "      <th>4</th>\n",
       "      <td>3.128072e-05</td>\n",
       "      <td>6</td>\n",
       "    </tr>\n",
       "    <tr>\n",
       "      <th>...</th>\n",
       "      <td>...</td>\n",
       "      <td>...</td>\n",
       "    </tr>\n",
       "    <tr>\n",
       "      <th>2278</th>\n",
       "      <td>3.999000e+03</td>\n",
       "      <td>1</td>\n",
       "    </tr>\n",
       "    <tr>\n",
       "      <th>2279</th>\n",
       "      <td>9.999000e+03</td>\n",
       "      <td>1</td>\n",
       "    </tr>\n",
       "    <tr>\n",
       "      <th>2280</th>\n",
       "      <td>1.079900e+04</td>\n",
       "      <td>1</td>\n",
       "    </tr>\n",
       "    <tr>\n",
       "      <th>2281</th>\n",
       "      <td>2.999900e+04</td>\n",
       "      <td>1</td>\n",
       "    </tr>\n",
       "    <tr>\n",
       "      <th>2282</th>\n",
       "      <td>3.250000e+04</td>\n",
       "      <td>1</td>\n",
       "    </tr>\n",
       "  </tbody>\n",
       "</table>\n",
       "<p>2283 rows × 2 columns</p>\n",
       "</div>"
      ],
      "text/plain": [
       "       change_rate  count\n",
       "0     2.360045e-07      3\n",
       "1     1.666667e-05      1\n",
       "2     2.669405e-05      9\n",
       "3     2.679098e-05      1\n",
       "4     3.128072e-05      6\n",
       "...            ...    ...\n",
       "2278  3.999000e+03      1\n",
       "2279  9.999000e+03      1\n",
       "2280  1.079900e+04      1\n",
       "2281  2.999900e+04      1\n",
       "2282  3.250000e+04      1\n",
       "\n",
       "[2283 rows x 2 columns]"
      ]
     },
     "execution_count": 207,
     "metadata": {},
     "output_type": "execute_result"
    }
   ],
   "source": [
    "change_rate_pos ## the count for each change Rate"
   ]
  },
  {
   "cell_type": "code",
   "execution_count": 125,
   "metadata": {},
   "outputs": [
    {
     "data": {
      "image/png": "[encoded data removed]",
      "text/plain": [
       "<Figure size 864x576 with 1 Axes>"
      ]
     },
     "metadata": {},
     "output_type": "display_data"
    }
   ],
   "source": [
    "sns.set_style('white')\n",
    "plt.figure(figsize=(12, 8))\n",
    "sns.distplot(positive['change_rate'])\n",
    "plt.xlabel('change_rate')\n",
    "plt.ylabel('Frequency')\n",
    "plt.title('Stars Distribution')\n",
    "plt.show()"
   ]
  },
  {
   "cell_type": "markdown",
   "metadata": {},
   "source": [
    "Same thing, we can look at 75% (how many data are greater than this number) , mean\n",
    "\n",
    "total is 6179"
   ]
  },
  {
   "cell_type": "code",
   "execution_count": 139,
   "metadata": {},
   "outputs": [
    {
     "data": {
      "text/plain": [
       "(1543, 3)"
      ]
     },
     "execution_count": 139,
     "metadata": {},
     "output_type": "execute_result"
    }
   ],
   "source": [
    "positive.loc[positive['change_rate']>2].shape  ##how many data are > 75%=2 "
   ]
  },
  {
   "cell_type": "markdown",
   "metadata": {},
   "source": [
    "### Test with 10% outlier "
   ]
  },
  {
   "cell_type": "code",
   "execution_count": 130,
   "metadata": {},
   "outputs": [
    {
     "data": {
      "text/plain": [
       "617.9000000000001"
      ]
     },
     "execution_count": 130,
     "metadata": {},
     "output_type": "execute_result"
    }
   ],
   "source": [
    "len(positive['change_rate'])*0.1"
   ]
  },
  {
   "cell_type": "code",
   "execution_count": 138,
   "metadata": {},
   "outputs": [
    {
     "data": {
      "text/html": [
       "<div>\n",
       "<style scoped>\n",
       "    .dataframe tbody tr th:only-of-type {\n",
       "        vertical-align: middle;\n",
       "    }\n",
       "\n",
       "    .dataframe tbody tr th {\n",
       "        vertical-align: top;\n",
       "    }\n",
       "\n",
       "    .dataframe thead th {\n",
       "        text-align: right;\n",
       "    }\n",
       "</style>\n",
       "<table border=\"1\" class=\"dataframe\">\n",
       "  <thead>\n",
       "    <tr style=\"text-align: right;\">\n",
       "      <th></th>\n",
       "      <th>oldvalue</th>\n",
       "      <th>newvalue</th>\n",
       "      <th>change_rate</th>\n",
       "    </tr>\n",
       "  </thead>\n",
       "  <tbody>\n",
       "    <tr>\n",
       "      <th>22496</th>\n",
       "      <td>0.08</td>\n",
       "      <td>2600.08</td>\n",
       "      <td>32500.000000</td>\n",
       "    </tr>\n",
       "    <tr>\n",
       "      <th>40833</th>\n",
       "      <td>1.00</td>\n",
       "      <td>30000.00</td>\n",
       "      <td>29999.000000</td>\n",
       "    </tr>\n",
       "    <tr>\n",
       "      <th>29997</th>\n",
       "      <td>1.00</td>\n",
       "      <td>10800.00</td>\n",
       "      <td>10799.000000</td>\n",
       "    </tr>\n",
       "    <tr>\n",
       "      <th>52504</th>\n",
       "      <td>1.00</td>\n",
       "      <td>10000.00</td>\n",
       "      <td>9999.000000</td>\n",
       "    </tr>\n",
       "    <tr>\n",
       "      <th>20881</th>\n",
       "      <td>1.00</td>\n",
       "      <td>4000.00</td>\n",
       "      <td>3999.000000</td>\n",
       "    </tr>\n",
       "    <tr>\n",
       "      <th>...</th>\n",
       "      <td>...</td>\n",
       "      <td>...</td>\n",
       "      <td>...</td>\n",
       "    </tr>\n",
       "    <tr>\n",
       "      <th>16747</th>\n",
       "      <td>70.00</td>\n",
       "      <td>600.00</td>\n",
       "      <td>7.571429</td>\n",
       "    </tr>\n",
       "    <tr>\n",
       "      <th>5173</th>\n",
       "      <td>35.00</td>\n",
       "      <td>300.00</td>\n",
       "      <td>7.571429</td>\n",
       "    </tr>\n",
       "    <tr>\n",
       "      <th>26158</th>\n",
       "      <td>1000.00</td>\n",
       "      <td>8512.31</td>\n",
       "      <td>7.512310</td>\n",
       "    </tr>\n",
       "    <tr>\n",
       "      <th>38716</th>\n",
       "      <td>1000.00</td>\n",
       "      <td>8511.00</td>\n",
       "      <td>7.511000</td>\n",
       "    </tr>\n",
       "    <tr>\n",
       "      <th>14997</th>\n",
       "      <td>940.00</td>\n",
       "      <td>8000.00</td>\n",
       "      <td>7.510638</td>\n",
       "    </tr>\n",
       "  </tbody>\n",
       "</table>\n",
       "<p>617 rows × 3 columns</p>\n",
       "</div>"
      ],
      "text/plain": [
       "       oldvalue  newvalue   change_rate\n",
       "22496      0.08   2600.08  32500.000000\n",
       "40833      1.00  30000.00  29999.000000\n",
       "29997      1.00  10800.00  10799.000000\n",
       "52504      1.00  10000.00   9999.000000\n",
       "20881      1.00   4000.00   3999.000000\n",
       "...         ...       ...           ...\n",
       "16747     70.00    600.00      7.571429\n",
       "5173      35.00    300.00      7.571429\n",
       "26158   1000.00   8512.31      7.512310\n",
       "38716   1000.00   8511.00      7.511000\n",
       "14997    940.00   8000.00      7.510638\n",
       "\n",
       "[617 rows x 3 columns]"
      ]
     },
     "execution_count": 138,
     "metadata": {},
     "output_type": "execute_result"
    }
   ],
   "source": [
    "positive=positive.sort_values(by='change_rate',ascending=False)\n",
    "positive.iloc[:617]"
   ]
  },
  {
   "cell_type": "markdown",
   "metadata": {},
   "source": [
    "Test with mean, but i can't use mean here coz it is influenced a lot by the change rate and 2% is way too small"
   ]
  },
  {
   "cell_type": "code",
   "execution_count": 208,
   "metadata": {},
   "outputs": [
    {
     "data": {
      "text/plain": [
       "(182, 4)"
      ]
     },
     "execution_count": 208,
     "metadata": {},
     "output_type": "execute_result"
    }
   ],
   "source": [
    "positive.loc[positive['change_rate']>23].shape"
   ]
  },
  {
   "cell_type": "code",
   "execution_count": 209,
   "metadata": {},
   "outputs": [
    {
     "data": {
      "text/plain": [
       "0.029454604304903705"
      ]
     },
     "execution_count": 209,
     "metadata": {},
     "output_type": "execute_result"
    }
   ],
   "source": [
    "182/6179"
   ]
  },
  {
   "cell_type": "markdown",
   "metadata": {},
   "source": [
    "## Test it with the outlier 5% "
   ]
  },
  {
   "cell_type": "code",
   "execution_count": 143,
   "metadata": {},
   "outputs": [
    {
     "data": {
      "text/plain": [
       "308.95000000000005"
      ]
     },
     "execution_count": 143,
     "metadata": {},
     "output_type": "execute_result"
    }
   ],
   "source": [
    "len(positive['change_rate'])*0.05"
   ]
  },
  {
   "cell_type": "code",
   "execution_count": 144,
   "metadata": {},
   "outputs": [
    {
     "data": {
      "text/html": [
       "<div>\n",
       "<style scoped>\n",
       "    .dataframe tbody tr th:only-of-type {\n",
       "        vertical-align: middle;\n",
       "    }\n",
       "\n",
       "    .dataframe tbody tr th {\n",
       "        vertical-align: top;\n",
       "    }\n",
       "\n",
       "    .dataframe thead th {\n",
       "        text-align: right;\n",
       "    }\n",
       "</style>\n",
       "<table border=\"1\" class=\"dataframe\">\n",
       "  <thead>\n",
       "    <tr style=\"text-align: right;\">\n",
       "      <th></th>\n",
       "      <th>oldvalue</th>\n",
       "      <th>newvalue</th>\n",
       "      <th>change_rate</th>\n",
       "    </tr>\n",
       "  </thead>\n",
       "  <tbody>\n",
       "    <tr>\n",
       "      <th>22496</th>\n",
       "      <td>0.08</td>\n",
       "      <td>2600.08</td>\n",
       "      <td>32500.00</td>\n",
       "    </tr>\n",
       "    <tr>\n",
       "      <th>40833</th>\n",
       "      <td>1.00</td>\n",
       "      <td>30000.00</td>\n",
       "      <td>29999.00</td>\n",
       "    </tr>\n",
       "    <tr>\n",
       "      <th>29997</th>\n",
       "      <td>1.00</td>\n",
       "      <td>10800.00</td>\n",
       "      <td>10799.00</td>\n",
       "    </tr>\n",
       "    <tr>\n",
       "      <th>52504</th>\n",
       "      <td>1.00</td>\n",
       "      <td>10000.00</td>\n",
       "      <td>9999.00</td>\n",
       "    </tr>\n",
       "    <tr>\n",
       "      <th>20881</th>\n",
       "      <td>1.00</td>\n",
       "      <td>4000.00</td>\n",
       "      <td>3999.00</td>\n",
       "    </tr>\n",
       "    <tr>\n",
       "      <th>...</th>\n",
       "      <td>...</td>\n",
       "      <td>...</td>\n",
       "      <td>...</td>\n",
       "    </tr>\n",
       "    <tr>\n",
       "      <th>52696</th>\n",
       "      <td>1000.00</td>\n",
       "      <td>13000.00</td>\n",
       "      <td>12.00</td>\n",
       "    </tr>\n",
       "    <tr>\n",
       "      <th>29500</th>\n",
       "      <td>5000.00</td>\n",
       "      <td>65000.00</td>\n",
       "      <td>12.00</td>\n",
       "    </tr>\n",
       "    <tr>\n",
       "      <th>43414</th>\n",
       "      <td>500.00</td>\n",
       "      <td>6500.00</td>\n",
       "      <td>12.00</td>\n",
       "    </tr>\n",
       "    <tr>\n",
       "      <th>7008</th>\n",
       "      <td>100.00</td>\n",
       "      <td>1300.00</td>\n",
       "      <td>12.00</td>\n",
       "    </tr>\n",
       "    <tr>\n",
       "      <th>46101</th>\n",
       "      <td>200.00</td>\n",
       "      <td>2598.00</td>\n",
       "      <td>11.99</td>\n",
       "    </tr>\n",
       "  </tbody>\n",
       "</table>\n",
       "<p>308 rows × 3 columns</p>\n",
       "</div>"
      ],
      "text/plain": [
       "       oldvalue  newvalue  change_rate\n",
       "22496      0.08   2600.08     32500.00\n",
       "40833      1.00  30000.00     29999.00\n",
       "29997      1.00  10800.00     10799.00\n",
       "52504      1.00  10000.00      9999.00\n",
       "20881      1.00   4000.00      3999.00\n",
       "...         ...       ...          ...\n",
       "52696   1000.00  13000.00        12.00\n",
       "29500   5000.00  65000.00        12.00\n",
       "43414    500.00   6500.00        12.00\n",
       "7008     100.00   1300.00        12.00\n",
       "46101    200.00   2598.00        11.99\n",
       "\n",
       "[308 rows x 3 columns]"
      ]
     },
     "execution_count": 144,
     "metadata": {},
     "output_type": "execute_result"
    }
   ],
   "source": [
    "positive.iloc[:308]"
   ]
  },
  {
   "cell_type": "markdown",
   "metadata": {},
   "source": [
    "In this case, the 12 is between the mean and 10% outlier standrads, so it works the best in here. Overall we cares the value decresing more than increasing"
   ]
  },
  {
   "cell_type": "markdown",
   "metadata": {},
   "source": [
    "# Conclusion "
   ]
  },
  {
   "cell_type": "markdown",
   "metadata": {},
   "source": [
    "1. for negative data , try to conduct normal test, if it works for your data, then use mean-2*std. If it's not, then use the 10% as the outlier.\n",
    "2. for positive data, try to use mean as the thredhood, if the percent >=5%  , then use this as standard. If it is not, then use the 5% as the outlier."
   ]
  },
  {
   "cell_type": "markdown",
   "metadata": {},
   "source": [
    "# Methods 2. Anomaly Detection "
   ]
  },
  {
   "cell_type": "code",
   "execution_count": 158,
   "metadata": {},
   "outputs": [
    {
     "data": {
      "text/html": [
       "<div>\n",
       "<style scoped>\n",
       "    .dataframe tbody tr th:only-of-type {\n",
       "        vertical-align: middle;\n",
       "    }\n",
       "\n",
       "    .dataframe tbody tr th {\n",
       "        vertical-align: top;\n",
       "    }\n",
       "\n",
       "    .dataframe thead th {\n",
       "        text-align: right;\n",
       "    }\n",
       "</style>\n",
       "<table border=\"1\" class=\"dataframe\">\n",
       "  <thead>\n",
       "    <tr style=\"text-align: right;\">\n",
       "      <th></th>\n",
       "      <th>opportunityid</th>\n",
       "      <th>change_rate</th>\n",
       "    </tr>\n",
       "  </thead>\n",
       "  <tbody>\n",
       "    <tr>\n",
       "      <th>3</th>\n",
       "      <td>0063800000kpTKgAAM</td>\n",
       "      <td>-0.333333</td>\n",
       "    </tr>\n",
       "    <tr>\n",
       "      <th>4</th>\n",
       "      <td>0063800000kqTVOAA2</td>\n",
       "      <td>-0.500000</td>\n",
       "    </tr>\n",
       "    <tr>\n",
       "      <th>5</th>\n",
       "      <td>0063800000oWSYwAAO</td>\n",
       "      <td>7.400000</td>\n",
       "    </tr>\n",
       "    <tr>\n",
       "      <th>15</th>\n",
       "      <td>0063800000mNSg9AAG</td>\n",
       "      <td>9.000000</td>\n",
       "    </tr>\n",
       "    <tr>\n",
       "      <th>24</th>\n",
       "      <td>0060z00001wmZQwAAM</td>\n",
       "      <td>1.857143</td>\n",
       "    </tr>\n",
       "    <tr>\n",
       "      <th>...</th>\n",
       "      <td>...</td>\n",
       "      <td>...</td>\n",
       "    </tr>\n",
       "    <tr>\n",
       "      <th>59331</th>\n",
       "      <td>0060z000022AubfAAC</td>\n",
       "      <td>-0.250000</td>\n",
       "    </tr>\n",
       "    <tr>\n",
       "      <th>59340</th>\n",
       "      <td>0060z000022v6ZSAAY</td>\n",
       "      <td>1.000000</td>\n",
       "    </tr>\n",
       "    <tr>\n",
       "      <th>59343</th>\n",
       "      <td>0060z0000228YCRAA2</td>\n",
       "      <td>-0.545455</td>\n",
       "    </tr>\n",
       "    <tr>\n",
       "      <th>59346</th>\n",
       "      <td>0060z000022thFWAAY</td>\n",
       "      <td>4.000000</td>\n",
       "    </tr>\n",
       "    <tr>\n",
       "      <th>59356</th>\n",
       "      <td>0060z000023tVocAAE</td>\n",
       "      <td>9.000000</td>\n",
       "    </tr>\n",
       "  </tbody>\n",
       "</table>\n",
       "<p>10684 rows × 2 columns</p>\n",
       "</div>"
      ],
      "text/plain": [
       "            opportunityid  change_rate\n",
       "3      0063800000kpTKgAAM    -0.333333\n",
       "4      0063800000kqTVOAA2    -0.500000\n",
       "5      0063800000oWSYwAAO     7.400000\n",
       "15     0063800000mNSg9AAG     9.000000\n",
       "24     0060z00001wmZQwAAM     1.857143\n",
       "...                   ...          ...\n",
       "59331  0060z000022AubfAAC    -0.250000\n",
       "59340  0060z000022v6ZSAAY     1.000000\n",
       "59343  0060z0000228YCRAA2    -0.545455\n",
       "59346  0060z000022thFWAAY     4.000000\n",
       "59356  0060z000023tVocAAE     9.000000\n",
       "\n",
       "[10684 rows x 2 columns]"
      ]
     },
     "execution_count": 158,
     "metadata": {},
     "output_type": "execute_result"
    }
   ],
   "source": [
    "change_rate3=value[['opportunityid','change_rate']]\n",
    "change_rate3"
   ]
  },
  {
   "cell_type": "code",
   "execution_count": 160,
   "metadata": {},
   "outputs": [],
   "source": [
    "change_rate_3=change_rate3.set_index(['opportunityid'])"
   ]
  },
  {
   "cell_type": "code",
   "execution_count": 161,
   "metadata": {},
   "outputs": [
    {
     "data": {
      "text/html": [
       "<div>\n",
       "<style scoped>\n",
       "    .dataframe tbody tr th:only-of-type {\n",
       "        vertical-align: middle;\n",
       "    }\n",
       "\n",
       "    .dataframe tbody tr th {\n",
       "        vertical-align: top;\n",
       "    }\n",
       "\n",
       "    .dataframe thead th {\n",
       "        text-align: right;\n",
       "    }\n",
       "</style>\n",
       "<table border=\"1\" class=\"dataframe\">\n",
       "  <thead>\n",
       "    <tr style=\"text-align: right;\">\n",
       "      <th></th>\n",
       "      <th>change_rate</th>\n",
       "    </tr>\n",
       "    <tr>\n",
       "      <th>opportunityid</th>\n",
       "      <th></th>\n",
       "    </tr>\n",
       "  </thead>\n",
       "  <tbody>\n",
       "    <tr>\n",
       "      <th>0063800000kpTKgAAM</th>\n",
       "      <td>-0.333333</td>\n",
       "    </tr>\n",
       "    <tr>\n",
       "      <th>0063800000kqTVOAA2</th>\n",
       "      <td>-0.500000</td>\n",
       "    </tr>\n",
       "    <tr>\n",
       "      <th>0063800000oWSYwAAO</th>\n",
       "      <td>7.400000</td>\n",
       "    </tr>\n",
       "    <tr>\n",
       "      <th>0063800000mNSg9AAG</th>\n",
       "      <td>9.000000</td>\n",
       "    </tr>\n",
       "    <tr>\n",
       "      <th>0060z00001wmZQwAAM</th>\n",
       "      <td>1.857143</td>\n",
       "    </tr>\n",
       "    <tr>\n",
       "      <th>...</th>\n",
       "      <td>...</td>\n",
       "    </tr>\n",
       "    <tr>\n",
       "      <th>0060z000022AubfAAC</th>\n",
       "      <td>-0.250000</td>\n",
       "    </tr>\n",
       "    <tr>\n",
       "      <th>0060z000022v6ZSAAY</th>\n",
       "      <td>1.000000</td>\n",
       "    </tr>\n",
       "    <tr>\n",
       "      <th>0060z0000228YCRAA2</th>\n",
       "      <td>-0.545455</td>\n",
       "    </tr>\n",
       "    <tr>\n",
       "      <th>0060z000022thFWAAY</th>\n",
       "      <td>4.000000</td>\n",
       "    </tr>\n",
       "    <tr>\n",
       "      <th>0060z000023tVocAAE</th>\n",
       "      <td>9.000000</td>\n",
       "    </tr>\n",
       "  </tbody>\n",
       "</table>\n",
       "<p>10684 rows × 1 columns</p>\n",
       "</div>"
      ],
      "text/plain": [
       "                    change_rate\n",
       "opportunityid                  \n",
       "0063800000kpTKgAAM    -0.333333\n",
       "0063800000kqTVOAA2    -0.500000\n",
       "0063800000oWSYwAAO     7.400000\n",
       "0063800000mNSg9AAG     9.000000\n",
       "0060z00001wmZQwAAM     1.857143\n",
       "...                         ...\n",
       "0060z000022AubfAAC    -0.250000\n",
       "0060z000022v6ZSAAY     1.000000\n",
       "0060z0000228YCRAA2    -0.545455\n",
       "0060z000022thFWAAY     4.000000\n",
       "0060z000023tVocAAE     9.000000\n",
       "\n",
       "[10684 rows x 1 columns]"
      ]
     },
     "execution_count": 161,
     "metadata": {},
     "output_type": "execute_result"
    }
   ],
   "source": [
    "change_rate_3"
   ]
  },
  {
   "cell_type": "code",
   "execution_count": 162,
   "metadata": {},
   "outputs": [],
   "source": [
    "value=change_rate_3.index"
   ]
  },
  {
   "cell_type": "code",
   "execution_count": 163,
   "metadata": {},
   "outputs": [
    {
     "data": {
      "text/plain": [
       "GaussianMixture(covariance_type='full', init_params='kmeans', max_iter=100,\n",
       "                means_init=None, n_components=5, n_init=1, precisions_init=None,\n",
       "                random_state=999, reg_covar=1e-06, tol=0.001, verbose=0,\n",
       "                verbose_interval=10, warm_start=False, weights_init=None)"
      ]
     },
     "execution_count": 163,
     "metadata": {},
     "output_type": "execute_result"
    }
   ],
   "source": [
    "from sklearn.mixture import GaussianMixture\n",
    "GM=GaussianMixture(n_components=5,random_state=999)\n",
    "GM.fit(change_rate_3[['change_rate']])"
   ]
  },
  {
   "cell_type": "code",
   "execution_count": 164,
   "metadata": {
    "scrolled": true
   },
   "outputs": [
    {
     "data": {
      "image/png": "[encoded data removed]",
      "text/plain": [
       "<Figure size 1440x288 with 1 Axes>"
      ]
     },
     "metadata": {},
     "output_type": "display_data"
    },
    {
     "name": "stdout",
     "output_type": "stream",
     "text": [
      "opportunityid\n",
      "0060z00001yAZOAAA4   -59.475510\n",
      "0060z00001zZ5FWAA0   -59.423307\n",
      "0060z00001wpUnHAAU   -44.973011\n",
      "0060z000020df9KAAQ   -27.846410\n",
      "0063800000mPHQkAAO   -26.282634\n",
      "dtype: float64\n",
      "0    9789\n",
      "4     889\n",
      "3       2\n",
      "2       2\n",
      "1       2\n",
      "dtype: int64\n"
     ]
    }
   ],
   "source": [
    "import matplotlib.pylab as plt\n",
    "X=change_rate_3[['change_rate']]\n",
    "plt.figure(figsize=(20,4))\n",
    "plt.scatter(range(len(X)),GM.score_samples(X))\n",
    "plt.xlim(-10,1000)\n",
    "plt.xticks(range(len(X)),value,rotation=90)\n",
    "plt.plot(GM.score_samples(X),\"r--\")\n",
    "plt.show()\n",
    "print(pd.Series(GM.score_samples(X),index=value).sort_values().head())\n",
    "\n",
    "\n",
    "# also check for tiny clusters\n",
    "print (pd.Series(GM.predict(X)).value_counts())"
   ]
  },
  {
   "cell_type": "code",
   "execution_count": 167,
   "metadata": {},
   "outputs": [],
   "source": [
    "change_rate_3['predicted']=GM.predict(X)"
   ]
  },
  {
   "cell_type": "code",
   "execution_count": 186,
   "metadata": {},
   "outputs": [
    {
     "data": {
      "text/html": [
       "<div>\n",
       "<style scoped>\n",
       "    .dataframe tbody tr th:only-of-type {\n",
       "        vertical-align: middle;\n",
       "    }\n",
       "\n",
       "    .dataframe tbody tr th {\n",
       "        vertical-align: top;\n",
       "    }\n",
       "\n",
       "    .dataframe thead th {\n",
       "        text-align: right;\n",
       "    }\n",
       "</style>\n",
       "<table border=\"1\" class=\"dataframe\">\n",
       "  <thead>\n",
       "    <tr style=\"text-align: right;\">\n",
       "      <th></th>\n",
       "      <th>change_rate</th>\n",
       "      <th>predicted</th>\n",
       "    </tr>\n",
       "    <tr>\n",
       "      <th>opportunityid</th>\n",
       "      <th></th>\n",
       "      <th></th>\n",
       "    </tr>\n",
       "  </thead>\n",
       "  <tbody>\n",
       "    <tr>\n",
       "      <th>0060z000020zY57AAE</th>\n",
       "      <td>1.000000</td>\n",
       "      <td>0</td>\n",
       "    </tr>\n",
       "    <tr>\n",
       "      <th>0060z000022rjr5AAA</th>\n",
       "      <td>0.250000</td>\n",
       "      <td>0</td>\n",
       "    </tr>\n",
       "    <tr>\n",
       "      <th>0060z00001xse59AAA</th>\n",
       "      <td>5.900000</td>\n",
       "      <td>4</td>\n",
       "    </tr>\n",
       "    <tr>\n",
       "      <th>0060z00001ynN7PAAU</th>\n",
       "      <td>1.333333</td>\n",
       "      <td>0</td>\n",
       "    </tr>\n",
       "    <tr>\n",
       "      <th>0060z000021NliPAAS</th>\n",
       "      <td>0.200000</td>\n",
       "      <td>0</td>\n",
       "    </tr>\n",
       "    <tr>\n",
       "      <th>...</th>\n",
       "      <td>...</td>\n",
       "      <td>...</td>\n",
       "    </tr>\n",
       "    <tr>\n",
       "      <th>0060z00001zZt2KAAS</th>\n",
       "      <td>0.116981</td>\n",
       "      <td>0</td>\n",
       "    </tr>\n",
       "    <tr>\n",
       "      <th>0060z000023WlvEAAS</th>\n",
       "      <td>0.400000</td>\n",
       "      <td>0</td>\n",
       "    </tr>\n",
       "    <tr>\n",
       "      <th>0060z00001wmrUsAAI</th>\n",
       "      <td>1.000000</td>\n",
       "      <td>0</td>\n",
       "    </tr>\n",
       "    <tr>\n",
       "      <th>0060z000022reztAAA</th>\n",
       "      <td>0.142857</td>\n",
       "      <td>0</td>\n",
       "    </tr>\n",
       "    <tr>\n",
       "      <th>0060z00001z1niKAAQ</th>\n",
       "      <td>-0.100000</td>\n",
       "      <td>0</td>\n",
       "    </tr>\n",
       "  </tbody>\n",
       "</table>\n",
       "<p>10684 rows × 2 columns</p>\n",
       "</div>"
      ],
      "text/plain": [
       "                    change_rate  predicted\n",
       "opportunityid                             \n",
       "0060z000020zY57AAE     1.000000          0\n",
       "0060z000022rjr5AAA     0.250000          0\n",
       "0060z00001xse59AAA     5.900000          4\n",
       "0060z00001ynN7PAAU     1.333333          0\n",
       "0060z000021NliPAAS     0.200000          0\n",
       "...                         ...        ...\n",
       "0060z00001zZt2KAAS     0.116981          0\n",
       "0060z000023WlvEAAS     0.400000          0\n",
       "0060z00001wmrUsAAI     1.000000          0\n",
       "0060z000022reztAAA     0.142857          0\n",
       "0060z00001z1niKAAQ    -0.100000          0\n",
       "\n",
       "[10684 rows x 2 columns]"
      ]
     },
     "execution_count": 186,
     "metadata": {},
     "output_type": "execute_result"
    }
   ],
   "source": [
    "data=change_rate_3.sample(10684)\n",
    "data"
   ]
  },
  {
   "cell_type": "code",
   "execution_count": 188,
   "metadata": {},
   "outputs": [
    {
     "data": {
      "text/html": [
       "<div>\n",
       "<style scoped>\n",
       "    .dataframe tbody tr th:only-of-type {\n",
       "        vertical-align: middle;\n",
       "    }\n",
       "\n",
       "    .dataframe tbody tr th {\n",
       "        vertical-align: top;\n",
       "    }\n",
       "\n",
       "    .dataframe thead th {\n",
       "        text-align: right;\n",
       "    }\n",
       "</style>\n",
       "<table border=\"1\" class=\"dataframe\">\n",
       "  <thead>\n",
       "    <tr style=\"text-align: right;\">\n",
       "      <th></th>\n",
       "      <th>change_rate</th>\n",
       "      <th>predicted</th>\n",
       "    </tr>\n",
       "    <tr>\n",
       "      <th>opportunityid</th>\n",
       "      <th></th>\n",
       "      <th></th>\n",
       "    </tr>\n",
       "  </thead>\n",
       "  <tbody>\n",
       "    <tr>\n",
       "      <th>0060z00001xse59AAA</th>\n",
       "      <td>5.900000</td>\n",
       "      <td>4</td>\n",
       "    </tr>\n",
       "    <tr>\n",
       "      <th>0060z00001xtcvVAAQ</th>\n",
       "      <td>17.000000</td>\n",
       "      <td>4</td>\n",
       "    </tr>\n",
       "    <tr>\n",
       "      <th>0060z000022rKaIAAU</th>\n",
       "      <td>9.000000</td>\n",
       "      <td>4</td>\n",
       "    </tr>\n",
       "    <tr>\n",
       "      <th>0063800000claH5AAI</th>\n",
       "      <td>132.333333</td>\n",
       "      <td>4</td>\n",
       "    </tr>\n",
       "    <tr>\n",
       "      <th>0060z0000227QPZAA2</th>\n",
       "      <td>9.000000</td>\n",
       "      <td>4</td>\n",
       "    </tr>\n",
       "    <tr>\n",
       "      <th>...</th>\n",
       "      <td>...</td>\n",
       "      <td>...</td>\n",
       "    </tr>\n",
       "    <tr>\n",
       "      <th>0060z000023WrYJAA0</th>\n",
       "      <td>300.000000</td>\n",
       "      <td>4</td>\n",
       "    </tr>\n",
       "    <tr>\n",
       "      <th>0060z00001vTG6iAAG</th>\n",
       "      <td>9.000000</td>\n",
       "      <td>4</td>\n",
       "    </tr>\n",
       "    <tr>\n",
       "      <th>0060z000020y8e1AAA</th>\n",
       "      <td>9.000000</td>\n",
       "      <td>4</td>\n",
       "    </tr>\n",
       "    <tr>\n",
       "      <th>0060z00001zZl1QAAS</th>\n",
       "      <td>5.484933</td>\n",
       "      <td>4</td>\n",
       "    </tr>\n",
       "    <tr>\n",
       "      <th>0060z000020MkvPAAS</th>\n",
       "      <td>16.666667</td>\n",
       "      <td>4</td>\n",
       "    </tr>\n",
       "  </tbody>\n",
       "</table>\n",
       "<p>895 rows × 2 columns</p>\n",
       "</div>"
      ],
      "text/plain": [
       "                    change_rate  predicted\n",
       "opportunityid                             \n",
       "0060z00001xse59AAA     5.900000          4\n",
       "0060z00001xtcvVAAQ    17.000000          4\n",
       "0060z000022rKaIAAU     9.000000          4\n",
       "0063800000claH5AAI   132.333333          4\n",
       "0060z0000227QPZAA2     9.000000          4\n",
       "...                         ...        ...\n",
       "0060z000023WrYJAA0   300.000000          4\n",
       "0060z00001vTG6iAAG     9.000000          4\n",
       "0060z000020y8e1AAA     9.000000          4\n",
       "0060z00001zZl1QAAS     5.484933          4\n",
       "0060z000020MkvPAAS    16.666667          4\n",
       "\n",
       "[895 rows x 2 columns]"
      ]
     },
     "execution_count": 188,
     "metadata": {},
     "output_type": "execute_result"
    }
   ],
   "source": [
    "data2=data.loc[data['predicted'] != 0]\n",
    "data2"
   ]
  },
  {
   "cell_type": "code",
   "execution_count": null,
   "metadata": {},
   "outputs": [],
   "source": []
  }
 ],
 "metadata": {
  "kernelspec": {
   "display_name": "Python 3",
   "language": "python",
   "name": "python3"
  },
  "language_info": {
   "codemirror_mode": {
    "name": "ipython",
    "version": 3
   },
   "file_extension": ".py",
   "mimetype": "text/x-python",
   "name": "python",
   "nbconvert_exporter": "python",
   "pygments_lexer": "ipython3",
   "version": "3.7.6"
  }
 },
 "nbformat": 4,
 "nbformat_minor": 4
}
